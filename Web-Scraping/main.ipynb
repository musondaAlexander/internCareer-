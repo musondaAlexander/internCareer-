{
 "cells": [
  {
   "cell_type": "markdown",
   "metadata": {},
   "source": [
    "# Automated Ebay web scraping and price monitoring Script with automated email  notification. "
   ]
  },
  {
   "cell_type": "code",
   "execution_count": 29,
   "metadata": {},
   "outputs": [],
   "source": [
    "# Importing the necessary libraries\n",
    "from bs4 import BeautifulSoup\n",
    "import requests\n",
    "import time \n",
    "import datetime \n",
    "import pandas as pd \n",
    "import csv \n",
    "import smtplib\n",
    "from email.mime.multipart import MIMEMultipart\n",
    "from email.mime.text import MIMEText"
   ]
  },
  {
   "cell_type": "code",
   "execution_count": 11,
   "metadata": {},
   "outputs": [
    {
     "name": "stdout",
     "output_type": "stream",
     "text": [
      "\n",
      "\n",
      "\n",
      "\n",
      "\n",
      "\n",
      "              Dell Latitude 5410 Laptop Core i5-10310U 2.21GHz 4GB 128GB SSD 14\" Win11 PRO\n",
      "             \n",
      "\n",
      "\n",
      "\n",
      "\n",
      "\n",
      "\n",
      "\n",
      "\n",
      "\n",
      "\n",
      "                US $149.00\n",
      "               \n",
      "\n",
      "\n",
      "\n",
      "\n"
     ]
    }
   ],
   "source": [
    "# connect to the website\n",
    "url = 'https://www.ebay.com/itm/266676977002?itmmeta=01HQ2SR4Z9VPCHYES1SZR71683&hash=item3e172fbd6a:g:TXoAAOSwWM5lzrhP&itmprp=enc%3AAQAIAAAA4CxpUeU%2FcWJH6%2BgKDuMkydTQ%2Fdq7Y3t1%2FFkJA3Nsx4a40MEexQQT3lsNs2uP4Ati3wRvih9CaqKqxrV4PVA6cpT%2BXTp39LajQv8mg8therALoyTXT176mkkv06%2BiLZUbZmRM2cF%2FfYOfMLVpx49GZEyYV3Qdwu3tOWHzBwmw6BwEGEzaj41paK8b8psNrRn8yWLWDUciBLxuTNkEFj0l%2Bu7PHEo9kPT%2BaroSGEIPC9DvsRoFmQZQAFkeo%2Bn%2B0gFVKZbgJML9svx071nPs6xRHmm2z5EqjDzrZpOURuy01i2q%7Ctkp%3ABk9SR_zP4Nm4Yw'\n",
    "headers = { \"User-Agent\": \"Mozilla/5.0 (Windows NT 10.0; Win64; x64) AppleWebKit/537.36 (KHTML, like Gecko) Chrome/107.0.0.0 Safari/537.36 Edg/107.0.1418.42\",\"Accept-Encoding\": \"gzip, deflate\",\"Accept\": \"text/html,application/xhtml+xml,application/xml;q=0.9,image/avif,image/webp,image/apng,*/*;q=0.8,application/signed-exchange;v=b3;q=0.9\",\"Upgrade-Insecure-Requests\": \"1\"}\n",
    "page = requests.get(url, headers)\n",
    "\n",
    "# Create a BeautifulSoup object\n",
    "soup1 = BeautifulSoup(page.content, 'html.parser')\n",
    "soup2 = BeautifulSoup(soup1.prettify(), \"html.parser\") # TO MAKE IT MORE READABLE\n",
    "# check the content of the page\n",
    "# print(soup2)\n",
    "\n",
    "# Extract the title of the product\n",
    "div = soup2.find('div', {\"class\":\"vim x-item-title\"})\n",
    "title = div.get_text()\n",
    "print(title)\n",
    "\n",
    "# Extract the price of the product\n",
    "div = soup2.find('div', {\"class\":\"x-price-primary\"})\n",
    "price = div.get_text()\n",
    "print(price)\n",
    "\n"
   ]
  },
  {
   "cell_type": "markdown",
   "metadata": {},
   "source": [
    "### cleaning the Data "
   ]
  },
  {
   "cell_type": "code",
   "execution_count": 12,
   "metadata": {},
   "outputs": [
    {
     "name": "stdout",
     "output_type": "stream",
     "text": [
      "149.00\n",
      "Dell Latitude 5410 Laptop Core i5-10310U 2.21GHz 4GB 128GB SSD 14\" Win11 PRO\n"
     ]
    }
   ],
   "source": [
    "# We need to clean the data to make it more readable\n",
    "\n",
    "price = price.strip()[4:]\n",
    "title = title.strip()\n",
    "print(price)\n",
    "print(title)\n",
    "# now are our data is clean. This process can be done for multiple data entries."
   ]
  },
  {
   "cell_type": "code",
   "execution_count": 13,
   "metadata": {},
   "outputs": [
    {
     "name": "stdout",
     "output_type": "stream",
     "text": [
      "2024-02-20\n"
     ]
    }
   ],
   "source": [
    "# now we add the date \n",
    "\n",
    "today = datetime.date.today()\n",
    "print(today)"
   ]
  },
  {
   "cell_type": "markdown",
   "metadata": {},
   "source": [
    "### Writing data to a csv file "
   ]
  },
  {
   "cell_type": "code",
   "execution_count": 14,
   "metadata": {},
   "outputs": [],
   "source": [
    "#  now we need tp create the CSV file where will store our data\n",
    "header = ['Title', 'Price','Date']\n",
    "data = [title,price,today]\n",
    "\n",
    "with open('EbayWebScraping.csv', 'w',newline='', encoding='UTF8') as f:\n",
    "    writer = csv.writer(f)\n",
    "    writer.writerow(header)\n",
    "    writer.writerow(data)"
   ]
  },
  {
   "cell_type": "markdown",
   "metadata": {},
   "source": [
    "### Reading data from a CSV "
   ]
  },
  {
   "cell_type": "code",
   "execution_count": 17,
   "metadata": {},
   "outputs": [
    {
     "name": "stdout",
     "output_type": "stream",
     "text": [
      "                                               Title  Price        Date\n",
      "0  Dell Latitude 5410 Laptop Core i5-10310U 2.21G...  149.0  2024-02-20\n"
     ]
    }
   ],
   "source": [
    "# Now we need to open the CSV and check if the data is stored\n",
    "df = pd.read_csv('C:/Users/muson/Documents/internship/projects/Web-Scraping/EbayWebScraping.csv')\n",
    "print(df)"
   ]
  },
  {
   "cell_type": "markdown",
   "metadata": {},
   "source": [
    "# Function to send email"
   ]
  },
  {
   "cell_type": "code",
   "execution_count": 43,
   "metadata": {},
   "outputs": [
    {
     "name": "stdout",
     "output_type": "stream",
     "text": [
      "Email sent successfully!\n"
     ]
    }
   ],
   "source": [
    "#  The following code will send and email to the user if the price of the product is below a certain value\n",
    "from dotenv import load_dotenv\n",
    "import os\n",
    "# Load environment variables from .env file\n",
    "load_dotenv()\n",
    "\n",
    "def send_email():\n",
    "    # Email configuration\n",
    "    sender_email = os.getenv('SENDER_EMAIL')\n",
    "    receiver_email = os.getenv('RECEIVER_EMAIL')\n",
    "    password = os.getenv('SENDER_PASSWORD')\n",
    "\n",
    "    # Create message\n",
    "    message = MIMEMultipart()\n",
    "    message['From'] = sender_email\n",
    "    message['To'] = receiver_email\n",
    "    message['Subject'] = 'Price Reduction for Dell Laptop!'\n",
    "\n",
    "    body = 'Hello, The Price for the Dell laptop you have been watching has reduce to '+ str(price)\n",
    "    message.attach(MIMEText(body, 'plain'))\n",
    "\n",
    "    # Connect to the SMTP server\n",
    "    try:\n",
    "        server = smtplib.SMTP('smtp.gmail.com', 587)\n",
    "        server.starttls()\n",
    "        server.login(sender_email, password)\n",
    "        text = message.as_string()\n",
    "        server.sendmail(sender_email, receiver_email, text)\n",
    "        print('Email sent successfully!')\n",
    "    except Exception as e:\n",
    "        print(f'Error: {e}')\n",
    "    finally:\n",
    "        server.quit()\n",
    "send_email()"
   ]
  },
  {
   "cell_type": "markdown",
   "metadata": {},
   "source": [
    "# Now we automate the Process "
   ]
  },
  {
   "cell_type": "code",
   "execution_count": 40,
   "metadata": {},
   "outputs": [
    {
     "name": "stdout",
     "output_type": "stream",
     "text": [
      "Email sent successfully!\n"
     ]
    }
   ],
   "source": [
    "\"\"\"Now we create a function that will monitor the price of \n",
    "the product and store the data in the CSV file\"\"\"\n",
    "\n",
    "def monitor_price():\n",
    "    # connect to the website\n",
    "    url = 'https://www.ebay.com/itm/266676977002?itmmeta=01HQ2SR4Z9VPCHYES1SZR71683&hash=item3e172fbd6a:g:TXoAAOSwWM5lzrhP&itmprp=enc%3AAQAIAAAA4CxpUeU%2FcWJH6%2BgKDuMkydTQ%2Fdq7Y3t1%2FFkJA3Nsx4a40MEexQQT3lsNs2uP4Ati3wRvih9CaqKqxrV4PVA6cpT%2BXTp39LajQv8mg8therALoyTXT176mkkv06%2BiLZUbZmRM2cF%2FfYOfMLVpx49GZEyYV3Qdwu3tOWHzBwmw6BwEGEzaj41paK8b8psNrRn8yWLWDUciBLxuTNkEFj0l%2Bu7PHEo9kPT%2BaroSGEIPC9DvsRoFmQZQAFkeo%2Bn%2B0gFVKZbgJML9svx071nPs6xRHmm2z5EqjDzrZpOURuy01i2q%7Ctkp%3ABk9SR_zP4Nm4Yw'\n",
    "    headers = { \"User-Agent\": \"Mozilla/5.0 (Windows NT 10.0; Win64; x64) AppleWebKit/537.36 (KHTML, like Gecko) Chrome/107.0.0.0 Safari/537.36 Edg/107.0.1418.42\",\"Accept-Encoding\": \"gzip, deflate\",\"Accept\": \"text/html,application/xhtml+xml,application/xml;q=0.9,image/avif,image/webp,image/apng,*/*;q=0.8,application/signed-exchange;v=b3;q=0.9\",\"Upgrade-Insecure-Requests\": \"1\"}\n",
    "    page = requests.get(url, headers)\n",
    "\n",
    "    # Create a BeautifulSoup object\n",
    "    # Create a BeautifulSoup object\n",
    "    soup1 = BeautifulSoup(page.content, 'html.parser')\n",
    "    soup2 = BeautifulSoup(soup1.prettify(), \"html.parser\") # TO MAKE IT MORE READABLE\n",
    "\n",
    "    # Extract the title of the product\n",
    "    div = soup2.find('div', {\"class\":\"vim x-item-title\"})\n",
    "    title = div.get_text()\n",
    "\n",
    "    # Extract the price of the product\n",
    "    div = soup2.find('div', {\"class\":\"x-price-primary\"})\n",
    "    price = div.get_text()\n",
    "\n",
    "    # Formating the data now    \n",
    "    price = price.strip()[4:]\n",
    "    title = title.strip()\n",
    "    today = datetime.date.today() #adding the date field \n",
    "    \n",
    "    # We create the fields for the csv \n",
    "    header = ['Title', 'Price','Date']\n",
    "    data = [title,price,today]\n",
    "    with open('EbayWebScraping.csv', 'a+',newline='', encoding='UTF8') as f:\n",
    "        writer = csv.writer(f)\n",
    "        writer.writerow(data)\n",
    "\n",
    "    if float(price) < 149.00:\n",
    "        send_email()\n",
    "\n",
    "# We will run the function every 24 hours\n",
    "while(True):\n",
    "    monitor_price()\n",
    "    time.sleep(86400) # 24 hours in seconds\n"
   ]
  }
 ],
 "metadata": {
  "kernelspec": {
   "display_name": "proenv",
   "language": "python",
   "name": "python3"
  },
  "language_info": {
   "codemirror_mode": {
    "name": "ipython",
    "version": 3
   },
   "file_extension": ".py",
   "mimetype": "text/x-python",
   "name": "python",
   "nbconvert_exporter": "python",
   "pygments_lexer": "ipython3",
   "version": "3.11.5"
  }
 },
 "nbformat": 4,
 "nbformat_minor": 2
}
